{
 "cells": [
  {
   "cell_type": "markdown",
   "id": "cb396982",
   "metadata": {},
   "source": [
    "# Data Loading to BigQuery\n",
    "\n",
    "This notebook covers the setup of taking all of the files that we've discovered around Price Transparency and loading them into a standard format. \n",
    "\n",
    "We first need to do one, and then we will do the rest. See https://github.com/pauldria/ncssm-2022-jterm-price-transparency#data for more."
   ]
  },
  {
   "cell_type": "code",
   "execution_count": 1,
   "id": "98cd3452",
   "metadata": {},
   "outputs": [],
   "source": [
    "from tools import tools\n",
    "\n",
    "from google.cloud import bigquery\n",
    "\n",
    "import datetime\n",
    "import json\n",
    "import os\n",
    "import pandas as pd\n",
    "import urllib\n",
    "\n",
    "pd.set_option('display.max_rows', 500)\n",
    "pd.set_option('display.max_columns', 500)"
   ]
  },
  {
   "cell_type": "code",
   "execution_count": 2,
   "id": "3e5a13f6",
   "metadata": {},
   "outputs": [
    {
     "name": "stdout",
     "output_type": "stream",
     "text": [
      "env: GOOGLE_APPLICATION_CREDENTIALS=/home/raff/.ssh/ncssm-price-transparency-d58392a32442.json\n"
     ]
    }
   ],
   "source": [
    "%env GOOGLE_APPLICATION_CREDENTIALS=/home/raff/.ssh/ncssm-price-transparency-d58392a32442.json"
   ]
  },
  {
   "cell_type": "code",
   "execution_count": 3,
   "id": "8c1e9730",
   "metadata": {},
   "outputs": [],
   "source": [
    "with open(\"config.json\", \"r\") as f:\n",
    "    config = json.load(f)"
   ]
  },
  {
   "cell_type": "code",
   "execution_count": 4,
   "id": "a753a847",
   "metadata": {},
   "outputs": [
    {
     "name": "stdout",
     "output_type": "stream",
     "text": [
      "Processing Alamance Regional Medical Center\n"
     ]
    }
   ],
   "source": [
    "date_obtained = datetime.datetime.now().strftime(\"%Y-%m-%d\")\n",
    "\n",
    "for i in range(len(config[\"data\"])):\n",
    "    entry = config[\"data\"][i]\n",
    "    \n",
    "    identifier    = i\n",
    "    hospital_name = entry[\"hospital_name\"]\n",
    "    filepath      = entry[\"data_url_local\"] if \"data_url_local\" in entry else entry[\"data_url\"]\n",
    "    skiprows      = entry[\"skiprows\"]\n",
    "    date_provided = entry[\"date_provided\"]\n",
    "    gross_charge_name   = entry[\"gross_charge_name\"]\n",
    "    min_inpatient_name  = entry[\"min_inpatient_name\"]\n",
    "    max_inpatient_name  = entry[\"max_inpatient_name\"]\n",
    "    min_outpatient_name = entry[\"min_outpatient_name\"]\n",
    "    max_outpatient_name = entry[\"max_outpatient_name\"]\n",
    "    \n",
    "    print(f\"Processing {hospital_name}\")\n",
    "    \n",
    "    df             = pd.read_csv(filepath, skiprows = skiprows, dtype = str, na_values = \"\")\n",
    "    df_processed   = tools.process(df)\n",
    "    df_transformed = tools.transform(df_processed, fixed_start = 0, fixed_end = 4)\n",
    "    df_transformed.columns = [\"code\", \"ndc\", \"rev_code\", \"description\", \"payer\", \"cost\"]\n",
    "    df_standardized = tools.standardize(df_transformed, \n",
    "                                        cols = [\"code\", \"description\", \"payer\", \"cost\"],\n",
    "                                        id = identifier,\n",
    "                                        date_obtained = date_obtained,\n",
    "                                        date_provided = date_provided,\n",
    "                                        hospital_name = hospital_name,\n",
    "                                        gross_charge_name = gross_charge_name,\n",
    "                                        min_inpatient_name = min_inpatient_name,\n",
    "                                        max_inpatient_name = max_inpatient_name,\n",
    "                                        min_outpatient_name = min_outpatient_name,\n",
    "                                        max_outpatient_name = max_outpatient_name)"
   ]
  },
  {
   "cell_type": "code",
   "execution_count": 5,
   "id": "8dcc6a4d",
   "metadata": {},
   "outputs": [
    {
     "name": "stdout",
     "output_type": "stream",
     "text": [
      "(113385, 115)\n",
      "(113385, 115)\n",
      "(12585735, 6)\n",
      "(12585735, 9)\n"
     ]
    }
   ],
   "source": [
    "print(df.shape)\n",
    "print(df_processed.shape)\n",
    "print(df_transformed.shape)\n",
    "print(df_standardized.shape)"
   ]
  },
  {
   "cell_type": "code",
   "execution_count": 6,
   "id": "1382c29f",
   "metadata": {},
   "outputs": [
    {
     "data": {
      "text/html": [
       "<div>\n",
       "<style scoped>\n",
       "    .dataframe tbody tr th:only-of-type {\n",
       "        vertical-align: middle;\n",
       "    }\n",
       "\n",
       "    .dataframe tbody tr th {\n",
       "        vertical-align: top;\n",
       "    }\n",
       "\n",
       "    .dataframe thead th {\n",
       "        text-align: right;\n",
       "    }\n",
       "</style>\n",
       "<table border=\"1\" class=\"dataframe\">\n",
       "  <thead>\n",
       "    <tr style=\"text-align: right;\">\n",
       "      <th></th>\n",
       "      <th>id</th>\n",
       "      <th>date_obtained</th>\n",
       "      <th>date_provided</th>\n",
       "      <th>hospital_name</th>\n",
       "      <th>code</th>\n",
       "      <th>code_type</th>\n",
       "      <th>description</th>\n",
       "      <th>payer</th>\n",
       "      <th>cost</th>\n",
       "    </tr>\n",
       "  </thead>\n",
       "  <tbody>\n",
       "    <tr>\n",
       "      <th>0</th>\n",
       "      <td>0</td>\n",
       "      <td>2021-11-28</td>\n",
       "      <td>2021-09-28</td>\n",
       "      <td>Alamance Regional Medical Center</td>\n",
       "      <td>MS001</td>\n",
       "      <td></td>\n",
       "      <td>Heart Transplant Or Implant Of Heart Assist Sy...</td>\n",
       "      <td>_GROSS_CHARGE</td>\n",
       "      <td>$490,771.98</td>\n",
       "    </tr>\n",
       "    <tr>\n",
       "      <th>1</th>\n",
       "      <td>0</td>\n",
       "      <td>2021-11-28</td>\n",
       "      <td>2021-09-28</td>\n",
       "      <td>Alamance Regional Medical Center</td>\n",
       "      <td>MS002</td>\n",
       "      <td></td>\n",
       "      <td>Heart Transplant Or Implant Of Heart Assist Sy...</td>\n",
       "      <td>_GROSS_CHARGE</td>\n",
       "      <td>$540,615.96</td>\n",
       "    </tr>\n",
       "    <tr>\n",
       "      <th>2</th>\n",
       "      <td>0</td>\n",
       "      <td>2021-11-28</td>\n",
       "      <td>2021-09-28</td>\n",
       "      <td>Alamance Regional Medical Center</td>\n",
       "      <td>MS003</td>\n",
       "      <td></td>\n",
       "      <td>Ecmo Or Tracheostomy With Mv &gt;96 Hours Or Prin...</td>\n",
       "      <td>_GROSS_CHARGE</td>\n",
       "      <td>$256,535.52</td>\n",
       "    </tr>\n",
       "    <tr>\n",
       "      <th>3</th>\n",
       "      <td>0</td>\n",
       "      <td>2021-11-28</td>\n",
       "      <td>2021-09-28</td>\n",
       "      <td>Alamance Regional Medical Center</td>\n",
       "      <td>MS004</td>\n",
       "      <td></td>\n",
       "      <td>Tracheostomy With Mv &gt;96 Hours Or Principal Di...</td>\n",
       "      <td>_GROSS_CHARGE</td>\n",
       "      <td>$256,923.78</td>\n",
       "    </tr>\n",
       "    <tr>\n",
       "      <th>4</th>\n",
       "      <td>0</td>\n",
       "      <td>2021-11-28</td>\n",
       "      <td>2021-09-28</td>\n",
       "      <td>Alamance Regional Medical Center</td>\n",
       "      <td>MS011</td>\n",
       "      <td></td>\n",
       "      <td>Tracheostomy For Face, Mouth And Neck Diagnose...</td>\n",
       "      <td>_GROSS_CHARGE</td>\n",
       "      <td>$58,037.92</td>\n",
       "    </tr>\n",
       "  </tbody>\n",
       "</table>\n",
       "</div>"
      ],
      "text/plain": [
       "   id date_obtained date_provided                     hospital_name   code  \\\n",
       "0   0    2021-11-28    2021-09-28  Alamance Regional Medical Center  MS001   \n",
       "1   0    2021-11-28    2021-09-28  Alamance Regional Medical Center  MS002   \n",
       "2   0    2021-11-28    2021-09-28  Alamance Regional Medical Center  MS003   \n",
       "3   0    2021-11-28    2021-09-28  Alamance Regional Medical Center  MS004   \n",
       "4   0    2021-11-28    2021-09-28  Alamance Regional Medical Center  MS011   \n",
       "\n",
       "  code_type                                        description          payer  \\\n",
       "0            Heart Transplant Or Implant Of Heart Assist Sy...  _GROSS_CHARGE   \n",
       "1            Heart Transplant Or Implant Of Heart Assist Sy...  _GROSS_CHARGE   \n",
       "2            Ecmo Or Tracheostomy With Mv >96 Hours Or Prin...  _GROSS_CHARGE   \n",
       "3            Tracheostomy With Mv >96 Hours Or Principal Di...  _GROSS_CHARGE   \n",
       "4            Tracheostomy For Face, Mouth And Neck Diagnose...  _GROSS_CHARGE   \n",
       "\n",
       "          cost  \n",
       "0  $490,771.98  \n",
       "1  $540,615.96  \n",
       "2  $256,535.52  \n",
       "3  $256,923.78  \n",
       "4   $58,037.92  "
      ]
     },
     "execution_count": 6,
     "metadata": {},
     "output_type": "execute_result"
    }
   ],
   "source": [
    "df_standardized.head()"
   ]
  },
  {
   "cell_type": "code",
   "execution_count": 7,
   "id": "21daa628",
   "metadata": {},
   "outputs": [
    {
     "name": "stdout",
     "output_type": "stream",
     "text": [
      "<class 'pandas.core.frame.DataFrame'>\n",
      "RangeIndex: 12585735 entries, 0 to 12585734\n",
      "Data columns (total 9 columns):\n",
      " #   Column         Dtype         \n",
      "---  ------         -----         \n",
      " 0   id             int64         \n",
      " 1   date_obtained  datetime64[ns]\n",
      " 2   date_provided  datetime64[ns]\n",
      " 3   hospital_name  object        \n",
      " 4   code           object        \n",
      " 5   code_type      object        \n",
      " 6   description    object        \n",
      " 7   payer          object        \n",
      " 8   cost           object        \n",
      "dtypes: datetime64[ns](2), int64(1), object(6)\n",
      "memory usage: 864.2+ MB\n"
     ]
    }
   ],
   "source": [
    "df_standardized.info()"
   ]
  },
  {
   "cell_type": "code",
   "execution_count": 8,
   "id": "5ba18aca",
   "metadata": {},
   "outputs": [],
   "source": [
    "client = bigquery.Client()"
   ]
  },
  {
   "cell_type": "code",
   "execution_count": 9,
   "id": "61d128e1",
   "metadata": {},
   "outputs": [
    {
     "data": {
      "text/plain": [
       "[SchemaField('id', 'INTEGER', 'NULLABLE', None, (), None),\n",
       " SchemaField('date_obtained', 'DATE', 'NULLABLE', None, (), None),\n",
       " SchemaField('date_provided', 'DATE', 'NULLABLE', None, (), None),\n",
       " SchemaField('hospital_name', 'STRING', 'NULLABLE', None, (), None),\n",
       " SchemaField('code', 'STRING', 'NULLABLE', None, (), None),\n",
       " SchemaField('code_type', 'STRING', 'NULLABLE', None, (), None),\n",
       " SchemaField('description', 'STRING', 'NULLABLE', None, (), None),\n",
       " SchemaField('payer', 'STRING', 'NULLABLE', None, (), None),\n",
       " SchemaField('cost', 'STRING', 'NULLABLE', None, (), None)]"
      ]
     },
     "execution_count": 9,
     "metadata": {},
     "output_type": "execute_result"
    }
   ],
   "source": [
    "schema = []\n",
    "for c in df_standardized:\n",
    "    bigquery_type = bigquery.enums.SqlTypeNames.STRING\n",
    "    if c in [\"id\"]:\n",
    "        bigquery_type = bigquery.enums.SqlTypeNames.INT64\n",
    "    if c in [\"date_obtained\", \"date_provided\"]:\n",
    "        bigquery_type = bigquery.enums.SqlTypeNames.DATE\n",
    "    schema.append(bigquery.SchemaField(c, bigquery_type))\n",
    "schema"
   ]
  },
  {
   "cell_type": "code",
   "execution_count": 10,
   "id": "ae77f04c",
   "metadata": {},
   "outputs": [],
   "source": [
    "job_config = bigquery.LoadJobConfig(\n",
    "    schema            = schema,\n",
    "    write_disposition = \"WRITE_TRUNCATE\",\n",
    ")"
   ]
  },
  {
   "cell_type": "code",
   "execution_count": 11,
   "id": "ac40f72a",
   "metadata": {},
   "outputs": [],
   "source": [
    "job = client.load_table_from_dataframe(\n",
    "    df_standardized, \"ncssm-price-transparency.hospital_data.hospital_0\", job_config=job_config\n",
    ")"
   ]
  },
  {
   "cell_type": "code",
   "execution_count": 12,
   "id": "79c55c2a",
   "metadata": {},
   "outputs": [
    {
     "data": {
      "text/plain": [
       "LoadJob<project=ncssm-price-transparency, location=US, id=2e61d15d-8695-46d5-96c6-187f3660daa3>"
      ]
     },
     "execution_count": 12,
     "metadata": {},
     "output_type": "execute_result"
    }
   ],
   "source": [
    "job.result()  # Wait for the job to complete."
   ]
  }
 ],
 "metadata": {
  "kernelspec": {
   "display_name": "Python 3",
   "language": "python",
   "name": "python3"
  },
  "language_info": {
   "codemirror_mode": {
    "name": "ipython",
    "version": 3
   },
   "file_extension": ".py",
   "mimetype": "text/x-python",
   "name": "python",
   "nbconvert_exporter": "python",
   "pygments_lexer": "ipython3",
   "version": "3.7.3"
  }
 },
 "nbformat": 4,
 "nbformat_minor": 5
}
